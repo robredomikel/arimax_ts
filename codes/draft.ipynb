{
 "cells": [
  {
   "cell_type": "code",
   "execution_count": 11,
   "id": "initial_id",
   "metadata": {
    "collapsed": true,
    "ExecuteTime": {
     "end_time": "2024-02-08T14:45:21.905461Z",
     "start_time": "2024-02-08T14:45:21.901663Z"
    }
   },
   "outputs": [],
   "source": [
    "import pandas as pd\n",
    "import rpy2.robjects as robjects\n",
    "import os"
   ]
  },
  {
   "cell_type": "code",
   "outputs": [
    {
     "data": {
      "text/plain": "      SQALE_INDEX          COMMIT_DATE  S1213  \\\n0               0  2005-11-28 03:15:35      0   \n1             280  2005-11-29 01:34:22      0   \n2             285  2005-11-29 02:25:03      0   \n3             323  2005-11-29 03:11:23      0   \n4             347  2005-11-29 04:01:17      0   \n...           ...                  ...    ...   \n1625       121702  2012-02-17 22:50:39     17   \n1626       121706  2012-02-18 00:18:07     17   \n1627       121696  2012-02-18 00:18:30     17   \n1628       121712  2012-02-23 21:25:20     17   \n1629       121980  2012-02-24 21:18:34     17   \n\n      RedundantThrowsDeclarationCheck  S00117  S00122  S1488  S1905  \\\n0                                   0       0       0      0      0   \n1                                   0       0       0      0      0   \n2                                   0       0       0      0      0   \n3                                   0       0       0      0      0   \n4                                   0       0       0      0      0   \n...                               ...     ...     ...    ...    ...   \n1625                              142       8       0     34     12   \n1626                              142       8       0     34     12   \n1627                              142       8       0     34     12   \n1628                              142       8       0     34     12   \n1629                              142       8       0     34     12   \n\n      UselessImportCheck  DuplicatedBlocks  S1226  S00112  S1155  S00108  \\\n0                      0                 0      0       0      0       0   \n1                      0                 0      0       0      0       0   \n2                      0                 0      0       0      0       0   \n3                      0                 0      0       0      0       0   \n4                      0                 1      0       0      0       0   \n...                  ...               ...    ...     ...    ...     ...   \n1625                  68               155     18     110     10       3   \n1626                  68               155     18     110     10       3   \n1627                  68               155     18     110     10       3   \n1628                  68               155     18     110     10       3   \n1629                  68               155     18     110     10       3   \n\n      S1151  S1132  S1481  \n0         0      0      0  \n1         0      0      0  \n2         0      0      0  \n3         0      3      0  \n4         0      5      0  \n...     ...    ...    ...  \n1625      2     52     15  \n1626      2     52     15  \n1627      2     52     15  \n1628      2     52     15  \n1629      2     52     15  \n\n[1630 rows x 17 columns]",
      "text/html": "<div>\n<style scoped>\n    .dataframe tbody tr th:only-of-type {\n        vertical-align: middle;\n    }\n\n    .dataframe tbody tr th {\n        vertical-align: top;\n    }\n\n    .dataframe thead th {\n        text-align: right;\n    }\n</style>\n<table border=\"1\" class=\"dataframe\">\n  <thead>\n    <tr style=\"text-align: right;\">\n      <th></th>\n      <th>SQALE_INDEX</th>\n      <th>COMMIT_DATE</th>\n      <th>S1213</th>\n      <th>RedundantThrowsDeclarationCheck</th>\n      <th>S00117</th>\n      <th>S00122</th>\n      <th>S1488</th>\n      <th>S1905</th>\n      <th>UselessImportCheck</th>\n      <th>DuplicatedBlocks</th>\n      <th>S1226</th>\n      <th>S00112</th>\n      <th>S1155</th>\n      <th>S00108</th>\n      <th>S1151</th>\n      <th>S1132</th>\n      <th>S1481</th>\n    </tr>\n  </thead>\n  <tbody>\n    <tr>\n      <th>0</th>\n      <td>0</td>\n      <td>2005-11-28 03:15:35</td>\n      <td>0</td>\n      <td>0</td>\n      <td>0</td>\n      <td>0</td>\n      <td>0</td>\n      <td>0</td>\n      <td>0</td>\n      <td>0</td>\n      <td>0</td>\n      <td>0</td>\n      <td>0</td>\n      <td>0</td>\n      <td>0</td>\n      <td>0</td>\n      <td>0</td>\n    </tr>\n    <tr>\n      <th>1</th>\n      <td>280</td>\n      <td>2005-11-29 01:34:22</td>\n      <td>0</td>\n      <td>0</td>\n      <td>0</td>\n      <td>0</td>\n      <td>0</td>\n      <td>0</td>\n      <td>0</td>\n      <td>0</td>\n      <td>0</td>\n      <td>0</td>\n      <td>0</td>\n      <td>0</td>\n      <td>0</td>\n      <td>0</td>\n      <td>0</td>\n    </tr>\n    <tr>\n      <th>2</th>\n      <td>285</td>\n      <td>2005-11-29 02:25:03</td>\n      <td>0</td>\n      <td>0</td>\n      <td>0</td>\n      <td>0</td>\n      <td>0</td>\n      <td>0</td>\n      <td>0</td>\n      <td>0</td>\n      <td>0</td>\n      <td>0</td>\n      <td>0</td>\n      <td>0</td>\n      <td>0</td>\n      <td>0</td>\n      <td>0</td>\n    </tr>\n    <tr>\n      <th>3</th>\n      <td>323</td>\n      <td>2005-11-29 03:11:23</td>\n      <td>0</td>\n      <td>0</td>\n      <td>0</td>\n      <td>0</td>\n      <td>0</td>\n      <td>0</td>\n      <td>0</td>\n      <td>0</td>\n      <td>0</td>\n      <td>0</td>\n      <td>0</td>\n      <td>0</td>\n      <td>0</td>\n      <td>3</td>\n      <td>0</td>\n    </tr>\n    <tr>\n      <th>4</th>\n      <td>347</td>\n      <td>2005-11-29 04:01:17</td>\n      <td>0</td>\n      <td>0</td>\n      <td>0</td>\n      <td>0</td>\n      <td>0</td>\n      <td>0</td>\n      <td>0</td>\n      <td>1</td>\n      <td>0</td>\n      <td>0</td>\n      <td>0</td>\n      <td>0</td>\n      <td>0</td>\n      <td>5</td>\n      <td>0</td>\n    </tr>\n    <tr>\n      <th>...</th>\n      <td>...</td>\n      <td>...</td>\n      <td>...</td>\n      <td>...</td>\n      <td>...</td>\n      <td>...</td>\n      <td>...</td>\n      <td>...</td>\n      <td>...</td>\n      <td>...</td>\n      <td>...</td>\n      <td>...</td>\n      <td>...</td>\n      <td>...</td>\n      <td>...</td>\n      <td>...</td>\n      <td>...</td>\n    </tr>\n    <tr>\n      <th>1625</th>\n      <td>121702</td>\n      <td>2012-02-17 22:50:39</td>\n      <td>17</td>\n      <td>142</td>\n      <td>8</td>\n      <td>0</td>\n      <td>34</td>\n      <td>12</td>\n      <td>68</td>\n      <td>155</td>\n      <td>18</td>\n      <td>110</td>\n      <td>10</td>\n      <td>3</td>\n      <td>2</td>\n      <td>52</td>\n      <td>15</td>\n    </tr>\n    <tr>\n      <th>1626</th>\n      <td>121706</td>\n      <td>2012-02-18 00:18:07</td>\n      <td>17</td>\n      <td>142</td>\n      <td>8</td>\n      <td>0</td>\n      <td>34</td>\n      <td>12</td>\n      <td>68</td>\n      <td>155</td>\n      <td>18</td>\n      <td>110</td>\n      <td>10</td>\n      <td>3</td>\n      <td>2</td>\n      <td>52</td>\n      <td>15</td>\n    </tr>\n    <tr>\n      <th>1627</th>\n      <td>121696</td>\n      <td>2012-02-18 00:18:30</td>\n      <td>17</td>\n      <td>142</td>\n      <td>8</td>\n      <td>0</td>\n      <td>34</td>\n      <td>12</td>\n      <td>68</td>\n      <td>155</td>\n      <td>18</td>\n      <td>110</td>\n      <td>10</td>\n      <td>3</td>\n      <td>2</td>\n      <td>52</td>\n      <td>15</td>\n    </tr>\n    <tr>\n      <th>1628</th>\n      <td>121712</td>\n      <td>2012-02-23 21:25:20</td>\n      <td>17</td>\n      <td>142</td>\n      <td>8</td>\n      <td>0</td>\n      <td>34</td>\n      <td>12</td>\n      <td>68</td>\n      <td>155</td>\n      <td>18</td>\n      <td>110</td>\n      <td>10</td>\n      <td>3</td>\n      <td>2</td>\n      <td>52</td>\n      <td>15</td>\n    </tr>\n    <tr>\n      <th>1629</th>\n      <td>121980</td>\n      <td>2012-02-24 21:18:34</td>\n      <td>17</td>\n      <td>142</td>\n      <td>8</td>\n      <td>0</td>\n      <td>34</td>\n      <td>12</td>\n      <td>68</td>\n      <td>155</td>\n      <td>18</td>\n      <td>110</td>\n      <td>10</td>\n      <td>3</td>\n      <td>2</td>\n      <td>52</td>\n      <td>15</td>\n    </tr>\n  </tbody>\n</table>\n<p>1630 rows × 17 columns</p>\n</div>"
     },
     "execution_count": 2,
     "metadata": {},
     "output_type": "execute_result"
    }
   ],
   "source": [
    "df = pd.read_csv(\"/Users/mrobredo23/OULU/PROMISE_TDpred2024/data/complete_data/archiva.csv\")\n",
    "df"
   ],
   "metadata": {
    "collapsed": false,
    "ExecuteTime": {
     "end_time": "2024-02-08T14:12:48.921647Z",
     "start_time": "2024-02-08T14:12:48.905374Z"
    }
   },
   "id": "5e2f4151e00729",
   "execution_count": 2
  },
  {
   "cell_type": "code",
   "outputs": [
    {
     "data": {
      "text/plain": "             COMMIT_DATE  SQALE_INDEX  S1213  RedundantThrowsDeclarationCheck  \\\n0    2005-11-28 03:15:35          0.0    0.0                              0.0   \n1    2005-12-12 08:09:34       4540.0    0.0                              2.0   \n2    2005-12-27 02:34:36       6607.0    0.0                              5.0   \n3    2006-01-15 00:30:24       5929.0    0.0                             11.0   \n4    2006-01-30 02:51:46       7754.0    0.0                             17.0   \n..                   ...          ...    ...                              ...   \n131  2011-12-19 22:38:00     108851.0   17.0                            142.0   \n132  2012-01-04 08:49:50     110243.0   17.0                            142.0   \n133  2012-01-18 13:43:23     110861.0   17.0                            142.0   \n134  2012-02-02 20:39:36     121632.0   17.0                            142.0   \n135  2012-02-16 21:26:14     117762.0   17.0                            142.0   \n\n     S00117  S00122  S1488  S1905  UselessImportCheck  DuplicatedBlocks  \\\n0       0.0     0.0    0.0    0.0                 0.0               0.0   \n1       0.0     2.0    1.0    0.0                15.0               9.0   \n2       0.0     3.0    1.0    0.0                33.0               9.0   \n3       0.0     0.0    0.0    0.0                 1.0              12.0   \n4       0.0     1.0    0.0    0.0                 1.0              10.0   \n..      ...     ...    ...    ...                 ...               ...   \n131     7.0     0.0   24.0   12.0                68.0             136.0   \n132     8.0     0.0   34.0   12.0                68.0             145.0   \n133     8.0     0.0   34.0   12.0                68.0             146.0   \n134     8.0     0.0   34.0   12.0                70.0             152.0   \n135     8.0     0.0   34.0   12.0                69.0             155.0   \n\n     S1226  S00112  S1155  S00108  S1151  S1132  S1481  \n0      0.0     0.0    0.0     0.0    0.0    0.0    0.0  \n1      0.0     0.0    4.0     0.0    0.0   39.0   20.0  \n2      0.0     0.0    4.0     3.0    0.0   45.0    8.0  \n3      0.0     3.0    6.0     0.0    0.0    0.0    1.0  \n4      0.0     9.0    6.0     0.0    0.0    3.0    3.0  \n..     ...     ...    ...     ...    ...    ...    ...  \n131   18.0   108.0   10.0     3.0    2.0   41.0   15.0  \n132   18.0   112.0   10.0     3.0    2.0   52.0   15.0  \n133   18.0   112.0   10.0     3.0    2.0   52.0   15.0  \n134   18.0   110.0   10.0     3.0    2.0   52.0   15.0  \n135   18.0   110.0   10.0     3.0    2.0   52.0   15.0  \n\n[136 rows x 17 columns]",
      "text/html": "<div>\n<style scoped>\n    .dataframe tbody tr th:only-of-type {\n        vertical-align: middle;\n    }\n\n    .dataframe tbody tr th {\n        vertical-align: top;\n    }\n\n    .dataframe thead th {\n        text-align: right;\n    }\n</style>\n<table border=\"1\" class=\"dataframe\">\n  <thead>\n    <tr style=\"text-align: right;\">\n      <th></th>\n      <th>COMMIT_DATE</th>\n      <th>SQALE_INDEX</th>\n      <th>S1213</th>\n      <th>RedundantThrowsDeclarationCheck</th>\n      <th>S00117</th>\n      <th>S00122</th>\n      <th>S1488</th>\n      <th>S1905</th>\n      <th>UselessImportCheck</th>\n      <th>DuplicatedBlocks</th>\n      <th>S1226</th>\n      <th>S00112</th>\n      <th>S1155</th>\n      <th>S00108</th>\n      <th>S1151</th>\n      <th>S1132</th>\n      <th>S1481</th>\n    </tr>\n  </thead>\n  <tbody>\n    <tr>\n      <th>0</th>\n      <td>2005-11-28 03:15:35</td>\n      <td>0.0</td>\n      <td>0.0</td>\n      <td>0.0</td>\n      <td>0.0</td>\n      <td>0.0</td>\n      <td>0.0</td>\n      <td>0.0</td>\n      <td>0.0</td>\n      <td>0.0</td>\n      <td>0.0</td>\n      <td>0.0</td>\n      <td>0.0</td>\n      <td>0.0</td>\n      <td>0.0</td>\n      <td>0.0</td>\n      <td>0.0</td>\n    </tr>\n    <tr>\n      <th>1</th>\n      <td>2005-12-12 08:09:34</td>\n      <td>4540.0</td>\n      <td>0.0</td>\n      <td>2.0</td>\n      <td>0.0</td>\n      <td>2.0</td>\n      <td>1.0</td>\n      <td>0.0</td>\n      <td>15.0</td>\n      <td>9.0</td>\n      <td>0.0</td>\n      <td>0.0</td>\n      <td>4.0</td>\n      <td>0.0</td>\n      <td>0.0</td>\n      <td>39.0</td>\n      <td>20.0</td>\n    </tr>\n    <tr>\n      <th>2</th>\n      <td>2005-12-27 02:34:36</td>\n      <td>6607.0</td>\n      <td>0.0</td>\n      <td>5.0</td>\n      <td>0.0</td>\n      <td>3.0</td>\n      <td>1.0</td>\n      <td>0.0</td>\n      <td>33.0</td>\n      <td>9.0</td>\n      <td>0.0</td>\n      <td>0.0</td>\n      <td>4.0</td>\n      <td>3.0</td>\n      <td>0.0</td>\n      <td>45.0</td>\n      <td>8.0</td>\n    </tr>\n    <tr>\n      <th>3</th>\n      <td>2006-01-15 00:30:24</td>\n      <td>5929.0</td>\n      <td>0.0</td>\n      <td>11.0</td>\n      <td>0.0</td>\n      <td>0.0</td>\n      <td>0.0</td>\n      <td>0.0</td>\n      <td>1.0</td>\n      <td>12.0</td>\n      <td>0.0</td>\n      <td>3.0</td>\n      <td>6.0</td>\n      <td>0.0</td>\n      <td>0.0</td>\n      <td>0.0</td>\n      <td>1.0</td>\n    </tr>\n    <tr>\n      <th>4</th>\n      <td>2006-01-30 02:51:46</td>\n      <td>7754.0</td>\n      <td>0.0</td>\n      <td>17.0</td>\n      <td>0.0</td>\n      <td>1.0</td>\n      <td>0.0</td>\n      <td>0.0</td>\n      <td>1.0</td>\n      <td>10.0</td>\n      <td>0.0</td>\n      <td>9.0</td>\n      <td>6.0</td>\n      <td>0.0</td>\n      <td>0.0</td>\n      <td>3.0</td>\n      <td>3.0</td>\n    </tr>\n    <tr>\n      <th>...</th>\n      <td>...</td>\n      <td>...</td>\n      <td>...</td>\n      <td>...</td>\n      <td>...</td>\n      <td>...</td>\n      <td>...</td>\n      <td>...</td>\n      <td>...</td>\n      <td>...</td>\n      <td>...</td>\n      <td>...</td>\n      <td>...</td>\n      <td>...</td>\n      <td>...</td>\n      <td>...</td>\n      <td>...</td>\n    </tr>\n    <tr>\n      <th>131</th>\n      <td>2011-12-19 22:38:00</td>\n      <td>108851.0</td>\n      <td>17.0</td>\n      <td>142.0</td>\n      <td>7.0</td>\n      <td>0.0</td>\n      <td>24.0</td>\n      <td>12.0</td>\n      <td>68.0</td>\n      <td>136.0</td>\n      <td>18.0</td>\n      <td>108.0</td>\n      <td>10.0</td>\n      <td>3.0</td>\n      <td>2.0</td>\n      <td>41.0</td>\n      <td>15.0</td>\n    </tr>\n    <tr>\n      <th>132</th>\n      <td>2012-01-04 08:49:50</td>\n      <td>110243.0</td>\n      <td>17.0</td>\n      <td>142.0</td>\n      <td>8.0</td>\n      <td>0.0</td>\n      <td>34.0</td>\n      <td>12.0</td>\n      <td>68.0</td>\n      <td>145.0</td>\n      <td>18.0</td>\n      <td>112.0</td>\n      <td>10.0</td>\n      <td>3.0</td>\n      <td>2.0</td>\n      <td>52.0</td>\n      <td>15.0</td>\n    </tr>\n    <tr>\n      <th>133</th>\n      <td>2012-01-18 13:43:23</td>\n      <td>110861.0</td>\n      <td>17.0</td>\n      <td>142.0</td>\n      <td>8.0</td>\n      <td>0.0</td>\n      <td>34.0</td>\n      <td>12.0</td>\n      <td>68.0</td>\n      <td>146.0</td>\n      <td>18.0</td>\n      <td>112.0</td>\n      <td>10.0</td>\n      <td>3.0</td>\n      <td>2.0</td>\n      <td>52.0</td>\n      <td>15.0</td>\n    </tr>\n    <tr>\n      <th>134</th>\n      <td>2012-02-02 20:39:36</td>\n      <td>121632.0</td>\n      <td>17.0</td>\n      <td>142.0</td>\n      <td>8.0</td>\n      <td>0.0</td>\n      <td>34.0</td>\n      <td>12.0</td>\n      <td>70.0</td>\n      <td>152.0</td>\n      <td>18.0</td>\n      <td>110.0</td>\n      <td>10.0</td>\n      <td>3.0</td>\n      <td>2.0</td>\n      <td>52.0</td>\n      <td>15.0</td>\n    </tr>\n    <tr>\n      <th>135</th>\n      <td>2012-02-16 21:26:14</td>\n      <td>117762.0</td>\n      <td>17.0</td>\n      <td>142.0</td>\n      <td>8.0</td>\n      <td>0.0</td>\n      <td>34.0</td>\n      <td>12.0</td>\n      <td>69.0</td>\n      <td>155.0</td>\n      <td>18.0</td>\n      <td>110.0</td>\n      <td>10.0</td>\n      <td>3.0</td>\n      <td>2.0</td>\n      <td>52.0</td>\n      <td>15.0</td>\n    </tr>\n  </tbody>\n</table>\n<p>136 rows × 17 columns</p>\n</div>"
     },
     "execution_count": 3,
     "metadata": {},
     "output_type": "execute_result"
    }
   ],
   "source": [
    "df = pd.read_csv(\"/Users/mrobredo23/OULU/PROMISE_TDpred2024/data/biweekly_data/archiva.csv\")\n",
    "df"
   ],
   "metadata": {
    "collapsed": false,
    "ExecuteTime": {
     "end_time": "2024-02-08T14:13:22.519585Z",
     "start_time": "2024-02-08T14:13:22.501174Z"
    }
   },
   "id": "6fcb542f2cc8ede4",
   "execution_count": 3
  },
  {
   "cell_type": "code",
   "outputs": [
    {
     "ename": "RParsingError",
     "evalue": "Parsing status not OK - PARSING_STATUS.PARSE_ERROR",
     "output_type": "error",
     "traceback": [
      "\u001B[0;31m---------------------------------------------------------------------------\u001B[0m",
      "\u001B[0;31mRParsingError\u001B[0m                             Traceback (most recent call last)",
      "Cell \u001B[0;32mIn[14], line 1\u001B[0m\n\u001B[0;32m----> 1\u001B[0m \u001B[43mrobjects\u001B[49m\u001B[38;5;241;43m.\u001B[39;49m\u001B[43mr\u001B[49m\u001B[43m(\u001B[49m\u001B[38;5;124;43m'\u001B[39;49m\u001B[38;5;124;43m/Users/mrobredo23/OULU/PROMISE_TDpred2024/codes/R_models.R\u001B[39;49m\u001B[38;5;124;43m'\u001B[39;49m\u001B[43m)\u001B[49m\n",
      "File \u001B[0;32m~/OULU/PROMISE_TDpred2024/myenv/lib/python3.9/site-packages/rpy2/robjects/__init__.py:505\u001B[0m, in \u001B[0;36mR.__call__\u001B[0;34m(self, string, invisible, print_r_warnings)\u001B[0m\n\u001B[1;32m    489\u001B[0m \u001B[38;5;28;01mdef\u001B[39;00m \u001B[38;5;21m__call__\u001B[39m(\u001B[38;5;28mself\u001B[39m, string: \u001B[38;5;28mstr\u001B[39m,\n\u001B[1;32m    490\u001B[0m              invisible: typing\u001B[38;5;241m.\u001B[39mOptional[\u001B[38;5;28mbool\u001B[39m] \u001B[38;5;241m=\u001B[39m \u001B[38;5;28;01mNone\u001B[39;00m,\n\u001B[1;32m    491\u001B[0m              print_r_warnings: typing\u001B[38;5;241m.\u001B[39mOptional[\u001B[38;5;28mbool\u001B[39m] \u001B[38;5;241m=\u001B[39m \u001B[38;5;28;01mNone\u001B[39;00m) \u001B[38;5;241m-\u001B[39m\u001B[38;5;241m>\u001B[39m \u001B[38;5;28mobject\u001B[39m:\n\u001B[1;32m    492\u001B[0m \u001B[38;5;250m    \u001B[39m\u001B[38;5;124;03m\"\"\"Evaluate a string as R code.\u001B[39;00m\n\u001B[1;32m    493\u001B[0m \n\u001B[1;32m    494\u001B[0m \u001B[38;5;124;03m    :param string: A string with R code\u001B[39;00m\n\u001B[0;32m   (...)\u001B[0m\n\u001B[1;32m    503\u001B[0m \u001B[38;5;124;03m      is used.\u001B[39;00m\n\u001B[1;32m    504\u001B[0m \u001B[38;5;124;03m    :return: The value returned by R after rpy2 conversion.\"\"\"\u001B[39;00m\n\u001B[0;32m--> 505\u001B[0m     r_expr \u001B[38;5;241m=\u001B[39m \u001B[43mrinterface\u001B[49m\u001B[38;5;241;43m.\u001B[39;49m\u001B[43mparse\u001B[49m\u001B[43m(\u001B[49m\u001B[43mstring\u001B[49m\u001B[43m)\u001B[49m\n\u001B[1;32m    506\u001B[0m     \u001B[38;5;28;01mif\u001B[39;00m invisible \u001B[38;5;129;01mis\u001B[39;00m \u001B[38;5;28;01mNone\u001B[39;00m:\n\u001B[1;32m    507\u001B[0m         invisible \u001B[38;5;241m=\u001B[39m \u001B[38;5;28mself\u001B[39m\u001B[38;5;241m.\u001B[39m_invisible\n",
      "File \u001B[0;32m~/OULU/PROMISE_TDpred2024/myenv/lib/python3.9/site-packages/rpy2/rinterface_lib/conversion.py:45\u001B[0m, in \u001B[0;36m_cdata_res_to_rinterface.<locals>._\u001B[0;34m(*args, **kwargs)\u001B[0m\n\u001B[1;32m     44\u001B[0m \u001B[38;5;28;01mdef\u001B[39;00m \u001B[38;5;21m_\u001B[39m(\u001B[38;5;241m*\u001B[39margs, \u001B[38;5;241m*\u001B[39m\u001B[38;5;241m*\u001B[39mkwargs):\n\u001B[0;32m---> 45\u001B[0m     cdata \u001B[38;5;241m=\u001B[39m \u001B[43mfunction\u001B[49m\u001B[43m(\u001B[49m\u001B[38;5;241;43m*\u001B[39;49m\u001B[43margs\u001B[49m\u001B[43m,\u001B[49m\u001B[43m \u001B[49m\u001B[38;5;241;43m*\u001B[39;49m\u001B[38;5;241;43m*\u001B[39;49m\u001B[43mkwargs\u001B[49m\u001B[43m)\u001B[49m\n\u001B[1;32m     46\u001B[0m     \u001B[38;5;66;03m# TODO: test cdata is of the expected CType\u001B[39;00m\n\u001B[1;32m     47\u001B[0m     \u001B[38;5;28;01mreturn\u001B[39;00m _cdata_to_rinterface(cdata)\n",
      "File \u001B[0;32m~/OULU/PROMISE_TDpred2024/myenv/lib/python3.9/site-packages/rpy2/rinterface.py:123\u001B[0m, in \u001B[0;36mparse\u001B[0;34m(text, num)\u001B[0m\n\u001B[1;32m    121\u001B[0m robj \u001B[38;5;241m=\u001B[39m StrSexpVector([text])\n\u001B[1;32m    122\u001B[0m \u001B[38;5;28;01mwith\u001B[39;00m memorymanagement\u001B[38;5;241m.\u001B[39mrmemory() \u001B[38;5;28;01mas\u001B[39;00m rmemory:\n\u001B[0;32m--> 123\u001B[0m     res \u001B[38;5;241m=\u001B[39m \u001B[43m_rinterface\u001B[49m\u001B[38;5;241;43m.\u001B[39;49m\u001B[43m_parse\u001B[49m\u001B[43m(\u001B[49m\u001B[43mrobj\u001B[49m\u001B[38;5;241;43m.\u001B[39;49m\u001B[43m__sexp__\u001B[49m\u001B[38;5;241;43m.\u001B[39;49m\u001B[43m_cdata\u001B[49m\u001B[43m,\u001B[49m\u001B[43m \u001B[49m\u001B[43mnum\u001B[49m\u001B[43m,\u001B[49m\u001B[43m \u001B[49m\u001B[43mrmemory\u001B[49m\u001B[43m)\u001B[49m\n\u001B[1;32m    124\u001B[0m \u001B[38;5;28;01mreturn\u001B[39;00m res\n",
      "File \u001B[0;32m~/OULU/PROMISE_TDpred2024/myenv/lib/python3.9/site-packages/rpy2/rinterface_lib/_rinterface_capi.py:720\u001B[0m, in \u001B[0;36m_parse\u001B[0;34m(cdata, num, rmemory)\u001B[0m\n\u001B[1;32m    713\u001B[0m \u001B[38;5;66;03m# TODO: design better handling of possible status:\u001B[39;00m\n\u001B[1;32m    714\u001B[0m \u001B[38;5;66;03m# PARSE_NULL,\u001B[39;00m\n\u001B[1;32m    715\u001B[0m \u001B[38;5;66;03m# PARSE_OK,\u001B[39;00m\n\u001B[1;32m    716\u001B[0m \u001B[38;5;66;03m# PARSE_INCOMPLETE,\u001B[39;00m\n\u001B[1;32m    717\u001B[0m \u001B[38;5;66;03m# PARSE_ERROR,\u001B[39;00m\n\u001B[1;32m    718\u001B[0m \u001B[38;5;66;03m# PARSE_EOF\u001B[39;00m\n\u001B[1;32m    719\u001B[0m \u001B[38;5;28;01mif\u001B[39;00m status[\u001B[38;5;241m0\u001B[39m] \u001B[38;5;241m!=\u001B[39m openrlib\u001B[38;5;241m.\u001B[39mrlib\u001B[38;5;241m.\u001B[39mPARSE_OK:\n\u001B[0;32m--> 720\u001B[0m     \u001B[38;5;28;01mraise\u001B[39;00m RParsingError(\u001B[38;5;124m'\u001B[39m\u001B[38;5;124mParsing status not OK\u001B[39m\u001B[38;5;124m'\u001B[39m,\n\u001B[1;32m    721\u001B[0m                         status\u001B[38;5;241m=\u001B[39mPARSING_STATUS(status[\u001B[38;5;241m0\u001B[39m]))\n\u001B[1;32m    722\u001B[0m \u001B[38;5;28;01mreturn\u001B[39;00m res\n",
      "\u001B[0;31mRParsingError\u001B[0m: Parsing status not OK - PARSING_STATUS.PARSE_ERROR"
     ]
    }
   ],
   "source": [
    "robjects.r('/Users/mrobredo23/OULU/PROMISE_TDpred2024/codes/R_models.R')"
   ],
   "metadata": {
    "collapsed": false,
    "ExecuteTime": {
     "end_time": "2024-02-08T14:50:37.003845Z",
     "start_time": "2024-02-08T14:50:36.962268Z"
    }
   },
   "id": "21b39ad8ca38362a",
   "execution_count": 14
  }
 ],
 "metadata": {
  "kernelspec": {
   "display_name": "Python 3",
   "language": "python",
   "name": "python3"
  },
  "language_info": {
   "codemirror_mode": {
    "name": "ipython",
    "version": 2
   },
   "file_extension": ".py",
   "mimetype": "text/x-python",
   "name": "python",
   "nbconvert_exporter": "python",
   "pygments_lexer": "ipython2",
   "version": "2.7.6"
  }
 },
 "nbformat": 4,
 "nbformat_minor": 5
}
