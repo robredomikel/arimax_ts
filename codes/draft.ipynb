{
 "cells": [
  {
   "cell_type": "code",
   "execution_count": 92,
   "id": "initial_id",
   "metadata": {
    "collapsed": true,
    "ExecuteTime": {
     "end_time": "2024-02-15T14:27:38.636020Z",
     "start_time": "2024-02-15T14:27:38.632963Z"
    }
   },
   "outputs": [],
   "source": [
    "import numpy as np\n",
    "import pandas as pd\n",
    "import pmdarima as pmd\n",
    "from statsmodels.tsa.stattools import adfuller"
   ]
  },
  {
   "cell_type": "code",
   "outputs": [],
   "source": [
    "df = pd.read_csv(\"/Users/mrobredo23/OULU/PROMISE_TDpred2024/data/complete_data/archiva.csv\")\n",
    "df"
   ],
   "metadata": {
    "collapsed": false,
    "is_executing": true
   },
   "id": "5e2f4151e00729",
   "execution_count": null
  },
  {
   "cell_type": "code",
   "outputs": [
    {
     "data": {
      "text/plain": "             COMMIT_DATE  SQALE_INDEX  S1213  RedundantThrowsDeclarationCheck  \\\n0    2005-11-28 03:15:35          0.0    0.0                              0.0   \n1    2005-12-12 08:09:34       4540.0    0.0                              2.0   \n2    2005-12-27 02:34:36       6607.0    0.0                              5.0   \n3    2006-01-15 00:30:24       5929.0    0.0                             11.0   \n4    2006-01-30 02:51:46       7754.0    0.0                             17.0   \n..                   ...          ...    ...                              ...   \n131  2011-12-19 22:38:00     108851.0   17.0                            142.0   \n132  2012-01-04 08:49:50     110243.0   17.0                            142.0   \n133  2012-01-18 13:43:23     110861.0   17.0                            142.0   \n134  2012-02-02 20:39:36     121632.0   17.0                            142.0   \n135  2012-02-16 21:26:14     117762.0   17.0                            142.0   \n\n     S00117  S00122  S1488  S1905  UselessImportCheck  DuplicatedBlocks  \\\n0       0.0     0.0    0.0    0.0                 0.0               0.0   \n1       0.0     2.0    1.0    0.0                15.0               9.0   \n2       0.0     3.0    1.0    0.0                33.0               9.0   \n3       0.0     0.0    0.0    0.0                 1.0              12.0   \n4       0.0     1.0    0.0    0.0                 1.0              10.0   \n..      ...     ...    ...    ...                 ...               ...   \n131     7.0     0.0   24.0   12.0                68.0             136.0   \n132     8.0     0.0   34.0   12.0                68.0             145.0   \n133     8.0     0.0   34.0   12.0                68.0             146.0   \n134     8.0     0.0   34.0   12.0                70.0             152.0   \n135     8.0     0.0   34.0   12.0                69.0             155.0   \n\n     S1226  S00112  S1155  S00108  S1151  S1132  S1481  \n0      0.0     0.0    0.0     0.0    0.0    0.0    0.0  \n1      0.0     0.0    4.0     0.0    0.0   39.0   20.0  \n2      0.0     0.0    4.0     3.0    0.0   45.0    8.0  \n3      0.0     3.0    6.0     0.0    0.0    0.0    1.0  \n4      0.0     9.0    6.0     0.0    0.0    3.0    3.0  \n..     ...     ...    ...     ...    ...    ...    ...  \n131   18.0   108.0   10.0     3.0    2.0   41.0   15.0  \n132   18.0   112.0   10.0     3.0    2.0   52.0   15.0  \n133   18.0   112.0   10.0     3.0    2.0   52.0   15.0  \n134   18.0   110.0   10.0     3.0    2.0   52.0   15.0  \n135   18.0   110.0   10.0     3.0    2.0   52.0   15.0  \n\n[136 rows x 17 columns]",
      "text/html": "<div>\n<style scoped>\n    .dataframe tbody tr th:only-of-type {\n        vertical-align: middle;\n    }\n\n    .dataframe tbody tr th {\n        vertical-align: top;\n    }\n\n    .dataframe thead th {\n        text-align: right;\n    }\n</style>\n<table border=\"1\" class=\"dataframe\">\n  <thead>\n    <tr style=\"text-align: right;\">\n      <th></th>\n      <th>COMMIT_DATE</th>\n      <th>SQALE_INDEX</th>\n      <th>S1213</th>\n      <th>RedundantThrowsDeclarationCheck</th>\n      <th>S00117</th>\n      <th>S00122</th>\n      <th>S1488</th>\n      <th>S1905</th>\n      <th>UselessImportCheck</th>\n      <th>DuplicatedBlocks</th>\n      <th>S1226</th>\n      <th>S00112</th>\n      <th>S1155</th>\n      <th>S00108</th>\n      <th>S1151</th>\n      <th>S1132</th>\n      <th>S1481</th>\n    </tr>\n  </thead>\n  <tbody>\n    <tr>\n      <th>0</th>\n      <td>2005-11-28 03:15:35</td>\n      <td>0.0</td>\n      <td>0.0</td>\n      <td>0.0</td>\n      <td>0.0</td>\n      <td>0.0</td>\n      <td>0.0</td>\n      <td>0.0</td>\n      <td>0.0</td>\n      <td>0.0</td>\n      <td>0.0</td>\n      <td>0.0</td>\n      <td>0.0</td>\n      <td>0.0</td>\n      <td>0.0</td>\n      <td>0.0</td>\n      <td>0.0</td>\n    </tr>\n    <tr>\n      <th>1</th>\n      <td>2005-12-12 08:09:34</td>\n      <td>4540.0</td>\n      <td>0.0</td>\n      <td>2.0</td>\n      <td>0.0</td>\n      <td>2.0</td>\n      <td>1.0</td>\n      <td>0.0</td>\n      <td>15.0</td>\n      <td>9.0</td>\n      <td>0.0</td>\n      <td>0.0</td>\n      <td>4.0</td>\n      <td>0.0</td>\n      <td>0.0</td>\n      <td>39.0</td>\n      <td>20.0</td>\n    </tr>\n    <tr>\n      <th>2</th>\n      <td>2005-12-27 02:34:36</td>\n      <td>6607.0</td>\n      <td>0.0</td>\n      <td>5.0</td>\n      <td>0.0</td>\n      <td>3.0</td>\n      <td>1.0</td>\n      <td>0.0</td>\n      <td>33.0</td>\n      <td>9.0</td>\n      <td>0.0</td>\n      <td>0.0</td>\n      <td>4.0</td>\n      <td>3.0</td>\n      <td>0.0</td>\n      <td>45.0</td>\n      <td>8.0</td>\n    </tr>\n    <tr>\n      <th>3</th>\n      <td>2006-01-15 00:30:24</td>\n      <td>5929.0</td>\n      <td>0.0</td>\n      <td>11.0</td>\n      <td>0.0</td>\n      <td>0.0</td>\n      <td>0.0</td>\n      <td>0.0</td>\n      <td>1.0</td>\n      <td>12.0</td>\n      <td>0.0</td>\n      <td>3.0</td>\n      <td>6.0</td>\n      <td>0.0</td>\n      <td>0.0</td>\n      <td>0.0</td>\n      <td>1.0</td>\n    </tr>\n    <tr>\n      <th>4</th>\n      <td>2006-01-30 02:51:46</td>\n      <td>7754.0</td>\n      <td>0.0</td>\n      <td>17.0</td>\n      <td>0.0</td>\n      <td>1.0</td>\n      <td>0.0</td>\n      <td>0.0</td>\n      <td>1.0</td>\n      <td>10.0</td>\n      <td>0.0</td>\n      <td>9.0</td>\n      <td>6.0</td>\n      <td>0.0</td>\n      <td>0.0</td>\n      <td>3.0</td>\n      <td>3.0</td>\n    </tr>\n    <tr>\n      <th>...</th>\n      <td>...</td>\n      <td>...</td>\n      <td>...</td>\n      <td>...</td>\n      <td>...</td>\n      <td>...</td>\n      <td>...</td>\n      <td>...</td>\n      <td>...</td>\n      <td>...</td>\n      <td>...</td>\n      <td>...</td>\n      <td>...</td>\n      <td>...</td>\n      <td>...</td>\n      <td>...</td>\n      <td>...</td>\n    </tr>\n    <tr>\n      <th>131</th>\n      <td>2011-12-19 22:38:00</td>\n      <td>108851.0</td>\n      <td>17.0</td>\n      <td>142.0</td>\n      <td>7.0</td>\n      <td>0.0</td>\n      <td>24.0</td>\n      <td>12.0</td>\n      <td>68.0</td>\n      <td>136.0</td>\n      <td>18.0</td>\n      <td>108.0</td>\n      <td>10.0</td>\n      <td>3.0</td>\n      <td>2.0</td>\n      <td>41.0</td>\n      <td>15.0</td>\n    </tr>\n    <tr>\n      <th>132</th>\n      <td>2012-01-04 08:49:50</td>\n      <td>110243.0</td>\n      <td>17.0</td>\n      <td>142.0</td>\n      <td>8.0</td>\n      <td>0.0</td>\n      <td>34.0</td>\n      <td>12.0</td>\n      <td>68.0</td>\n      <td>145.0</td>\n      <td>18.0</td>\n      <td>112.0</td>\n      <td>10.0</td>\n      <td>3.0</td>\n      <td>2.0</td>\n      <td>52.0</td>\n      <td>15.0</td>\n    </tr>\n    <tr>\n      <th>133</th>\n      <td>2012-01-18 13:43:23</td>\n      <td>110861.0</td>\n      <td>17.0</td>\n      <td>142.0</td>\n      <td>8.0</td>\n      <td>0.0</td>\n      <td>34.0</td>\n      <td>12.0</td>\n      <td>68.0</td>\n      <td>146.0</td>\n      <td>18.0</td>\n      <td>112.0</td>\n      <td>10.0</td>\n      <td>3.0</td>\n      <td>2.0</td>\n      <td>52.0</td>\n      <td>15.0</td>\n    </tr>\n    <tr>\n      <th>134</th>\n      <td>2012-02-02 20:39:36</td>\n      <td>121632.0</td>\n      <td>17.0</td>\n      <td>142.0</td>\n      <td>8.0</td>\n      <td>0.0</td>\n      <td>34.0</td>\n      <td>12.0</td>\n      <td>70.0</td>\n      <td>152.0</td>\n      <td>18.0</td>\n      <td>110.0</td>\n      <td>10.0</td>\n      <td>3.0</td>\n      <td>2.0</td>\n      <td>52.0</td>\n      <td>15.0</td>\n    </tr>\n    <tr>\n      <th>135</th>\n      <td>2012-02-16 21:26:14</td>\n      <td>117762.0</td>\n      <td>17.0</td>\n      <td>142.0</td>\n      <td>8.0</td>\n      <td>0.0</td>\n      <td>34.0</td>\n      <td>12.0</td>\n      <td>69.0</td>\n      <td>155.0</td>\n      <td>18.0</td>\n      <td>110.0</td>\n      <td>10.0</td>\n      <td>3.0</td>\n      <td>2.0</td>\n      <td>52.0</td>\n      <td>15.0</td>\n    </tr>\n  </tbody>\n</table>\n<p>136 rows × 17 columns</p>\n</div>"
     },
     "execution_count": 2,
     "metadata": {},
     "output_type": "execute_result"
    }
   ],
   "source": [
    "df = pd.read_csv(\"/Users/mrobredo23/OULU/PROMISE_TDpred2024/data/biweekly_data/archiva.csv\")\n",
    "df"
   ],
   "metadata": {
    "collapsed": false,
    "ExecuteTime": {
     "end_time": "2024-02-15T12:20:14.859252Z",
     "start_time": "2024-02-15T12:20:14.837873Z"
    }
   },
   "id": "6fcb542f2cc8ede4",
   "execution_count": 2
  },
  {
   "cell_type": "code",
   "outputs": [
    {
     "data": {
      "text/plain": "Index(['SQALE_INDEX', 'S1213', 'RedundantThrowsDeclarationCheck', 'S00117',\n       'S00122', 'S1488', 'S1905', 'UselessImportCheck', 'DuplicatedBlocks',\n       'S1226', 'S00112', 'S1155', 'S00108', 'S1151', 'S1132', 'S1481'],\n      dtype='object')"
     },
     "execution_count": 10,
     "metadata": {},
     "output_type": "execute_result"
    }
   ],
   "source": [
    "df.columns[1:]"
   ],
   "metadata": {
    "collapsed": false,
    "ExecuteTime": {
     "end_time": "2024-02-15T12:20:59.290413Z",
     "start_time": "2024-02-15T12:20:59.286779Z"
    }
   },
   "id": "21b39ad8ca38362a",
   "execution_count": 10
  },
  {
   "cell_type": "markdown",
   "source": [
    "# Trying auto_arima"
   ],
   "metadata": {
    "collapsed": false
   },
   "id": "39470d786c6202dc"
  },
  {
   "cell_type": "code",
   "outputs": [],
   "source": [
    "df = pd.read_csv(\"/Users/mrobredo23/OULU/PROMISE-TDpred2024/data/monthly_data/felix.csv\")\n",
    "df.COMMIT_DATE = pd.to_datetime(df.COMMIT_DATE)\n",
    "\n",
    "# Dependent variable\n",
    "sqale_index = df.SQALE_INDEX.to_numpy()\n",
    "\n",
    "# Independent variables\n",
    "xregressors = df.iloc[:, 2:].to_numpy()\n",
    "\n",
    "# Initial data splitting.\n",
    "split_point = round(len(sqale_index))\n",
    "training_sqale = sqale_index[:split_point]\n",
    "testing_sqale = sqale_index[split_point:]\n",
    "training_xregressors = xregressors[:split_point]\n",
    "testing_xregressors = xregressors[split_point:]\n",
    "\n",
    "variable_names = df.columns[1:]\n",
    "xregresors_names = variable_names[1:]"
   ],
   "metadata": {
    "collapsed": false,
    "ExecuteTime": {
     "end_time": "2024-02-15T14:27:50.060141Z",
     "start_time": "2024-02-15T14:27:50.052098Z"
    }
   },
   "id": "a0325d56b59d47fa",
   "execution_count": 93
  },
  {
   "cell_type": "code",
   "outputs": [
    {
     "name": "stdout",
     "output_type": "stream",
     "text": [
      "0.9967077308437747\n",
      "3.8106766471530434e-05\n"
     ]
    },
    {
     "data": {
      "text/plain": "1"
     },
     "execution_count": 98,
     "metadata": {},
     "output_type": "execute_result"
    }
   ],
   "source": [
    "def optimal_d(series, max_d=3):\n",
    "    \"\"\"Determine optimal d by checking stationarity with ADF test.\"\"\"\n",
    "    for d in range(max_d + 1):\n",
    "        adf_result = adfuller(np.diff(series,n=d))\n",
    "        p_value = adf_result[1]\n",
    "        print(p_value)\n",
    "        if p_value < 0.05:  # Series is stationary\n",
    "            return d\n",
    "    return max_d\n",
    "\n",
    "optimal_d(sqale_index)"
   ],
   "metadata": {
    "collapsed": false,
    "ExecuteTime": {
     "end_time": "2024-02-15T14:30:46.793330Z",
     "start_time": "2024-02-15T14:30:46.784433Z"
    }
   },
   "id": "19153ec09d930f8a",
   "execution_count": 98
  },
  {
   "cell_type": "code",
   "outputs": [
    {
     "data": {
      "text/plain": "array([ 25998.,  26244.,  26490.,  25141.,  28171.,  26317.,  22667.,\n        47372.,  56041.,  64022.,  79151.,  79602.,  96367.,  82848.,\n        83558.,  83761.,  84040.,  84371.,  89351.,  89872.,  89400.,\n        93054.,  95090.,  99519., 100268., 100376., 100718., 105275.,\n       113126., 163907., 181760., 183540., 192623., 198636., 206333.,\n       215808., 224951., 227954., 225041., 227013., 230897., 246986.,\n       253394., 283530.])"
     },
     "execution_count": 95,
     "metadata": {},
     "output_type": "execute_result"
    }
   ],
   "source": [
    "sqale_index"
   ],
   "metadata": {
    "collapsed": false,
    "ExecuteTime": {
     "end_time": "2024-02-15T14:29:01.814003Z",
     "start_time": "2024-02-15T14:29:01.809919Z"
    }
   },
   "id": "47f00612a9b4d4c",
   "execution_count": 95
  },
  {
   "cell_type": "code",
   "outputs": [
    {
     "data": {
      "text/plain": "           COMMIT_DATE  SQALE_INDEX  S1213  RedundantThrowsDeclarationCheck  \\\n0  2005-08-16 18:33:34      25998.0   25.0                             21.0   \n1  2005-09-15 18:33:34      26244.0   25.0                             21.0   \n2  2005-10-30 07:47:41      26490.0   25.0                             21.0   \n3  2005-12-03 16:32:50      25141.0   26.0                             22.0   \n4  2006-01-13 13:55:13      28171.0   64.0                             22.0   \n5  2006-02-13 15:46:16      26317.0   60.0                             20.0   \n6  2006-03-16 15:57:37      22667.0   61.0                             26.0   \n7  2006-04-19 14:43:32      47372.0   91.0                             31.0   \n8  2006-05-24 07:42:30      56041.0  105.0                             36.0   \n9  2006-06-24 15:03:17      64022.0  111.0                             38.0   \n10 2006-07-24 15:26:49      79151.0  121.0                             59.0   \n11 2006-08-23 20:03:22      79602.0  123.0                             61.0   \n12 2006-09-25 16:10:48      96367.0  163.0                            106.0   \n13 2006-10-26 14:40:07      82848.0  700.0                            226.0   \n14 2006-12-06 23:21:41      83558.0  700.0                            227.0   \n15 2007-01-18 01:36:45      83761.0  695.0                            226.0   \n16 2007-02-21 23:53:59      84040.0  692.0                            225.0   \n17 2007-03-28 14:34:01      84371.0  692.0                            225.0   \n18 2007-05-03 13:51:48      89351.0  703.0                            224.0   \n19 2007-06-05 15:19:52      89872.0  704.0                            223.0   \n20 2007-07-05 21:24:02      89400.0  704.0                            223.0   \n21 2007-08-06 12:01:51      93054.0  694.0                            227.0   \n22 2007-09-05 15:17:17      95090.0  694.0                            230.0   \n23 2007-10-07 10:25:46      99519.0  696.0                            263.0   \n24 2007-11-06 21:09:10     100268.0  696.0                            263.0   \n25 2007-12-07 08:22:20     100376.0  696.0                            263.0   \n26 2008-01-07 14:34:03     100718.0  696.0                            264.0   \n27 2008-02-15 22:19:59     105275.0  711.0                            293.0   \n28 2008-03-18 11:24:45     113126.0  716.0                            302.0   \n29 2008-04-21 20:55:17     163907.0  768.0                            305.0   \n30 2008-05-29 07:43:23     181760.0  785.0                            305.0   \n31 2008-07-02 09:46:11     183540.0  790.0                            304.0   \n32 2008-08-01 12:52:36     192623.0  776.0                            325.0   \n33 2008-09-05 21:38:05     198636.0  790.0                            329.0   \n34 2008-10-06 07:55:39     206333.0  797.0                            329.0   \n35 2008-11-05 13:10:54     215808.0  796.0                            333.0   \n36 2008-12-10 12:29:41     224951.0  818.0                            338.0   \n37 2009-01-12 09:54:01     227954.0  819.0                            335.0   \n38 2009-02-11 14:58:19     225041.0  799.0                            332.0   \n39 2009-03-16 23:34:01     227013.0  802.0                            331.0   \n40 2009-04-16 06:33:10     230897.0  803.0                            351.0   \n41 2009-05-16 09:01:22     246986.0  830.0                            363.0   \n42 2009-06-15 09:47:06     253394.0  845.0                            370.0   \n43 2009-07-15 15:43:44     283530.0  891.0                            515.0   \n\n    S00117  S00122  S1488  S1905  UselessImportCheck  DuplicatedBlocks  S1226  \\\n0     34.0    49.0    9.0   34.0                 4.0              45.0   72.0   \n1     34.0    49.5    9.0   34.5                 5.0              47.0   72.0   \n2     34.0    50.0    9.0   35.0                 6.0              49.0   72.0   \n3     34.0    49.0    9.0   34.0                 4.0              49.0   72.0   \n4     42.0    57.0    9.0   35.0                 4.0              49.0   73.0   \n5     40.0    58.0    6.0   36.0                 7.0              45.0   78.0   \n6     15.0    65.0    6.0   19.0                 7.0              38.0   77.0   \n7     58.0   128.0   13.0   22.0                12.0              77.0   94.0   \n8     62.0   139.0   15.0   24.0                20.0              97.0  101.0   \n9     63.0   266.0   18.0   29.0                20.0             118.0  117.0   \n10    64.0   520.0   21.0   36.0                47.0             132.0  165.0   \n11    65.0   523.0   21.0   36.0                48.0             137.0  167.0   \n12    88.0   600.0   24.0   37.0               165.0             150.0  206.0   \n13    93.0   598.0   24.0   37.0               128.0             200.0  206.0   \n14   111.0   653.0   23.0   37.0               119.0             205.0  206.0   \n15   109.0   645.0   23.0   37.0               115.0             203.0  207.0   \n16   109.0   653.0   23.0   34.0               119.0             201.0  173.0   \n17   110.0   623.0   23.0   34.0               153.0             203.0  176.0   \n18   112.0   503.0   23.0   35.0               162.0             218.0  186.0   \n19   112.0   520.0   24.0   35.0               156.0             218.0  188.0   \n20   104.0   492.0   23.0   35.0               153.0             191.0  180.0   \n21   104.0   494.0   24.0   34.0               155.0             206.0  186.0   \n22   106.0   502.0   27.0   33.0               116.0             206.0  197.0   \n23   107.0   596.0   29.0   41.0               113.0             207.0  207.0   \n24   107.0   591.0   35.0   45.0               113.0             208.0  208.0   \n25   107.0   588.0   35.0   45.0               114.0             217.0  204.0   \n26   104.0   585.0   37.0   45.0               114.0             216.0  202.0   \n27   112.0   573.0   36.0   37.0               103.0             266.0  201.0   \n28   114.0   569.0   37.0   41.0               105.0             295.0  244.0   \n29   560.0   791.0   40.0   43.0               115.0             422.0  252.0   \n30   563.0   812.0   39.0   42.0               120.0             502.0  256.0   \n31   577.0   813.0   39.0   42.0               116.0             498.0  262.0   \n32   642.0   802.0   39.0   42.0               113.0             511.0  262.0   \n33   658.0   799.0   40.0   42.0               113.0             483.0  273.0   \n34   658.0   809.0   41.0   42.0               116.0             500.0  275.0   \n35   712.0   831.0   41.0   42.0               119.0             508.0  275.0   \n36   745.0   837.0   43.0   62.0               120.0             506.0  303.0   \n37   813.0   826.0   44.0   68.0               126.0             517.0  303.0   \n38   783.0   826.0   42.0   52.0               121.0             519.0  277.0   \n39   783.0   826.0   42.0   52.0               125.0             523.0  283.0   \n40   783.0   836.0   45.0   54.0               125.0             543.0  291.0   \n41   795.0   874.0   52.0   61.0               157.0             578.0  320.0   \n42   797.0   874.0   55.0   64.0               157.0             576.0  346.0   \n43   826.0   901.0   79.0   84.0               180.0             673.0  442.0   \n\n    S00112  S1155  S00108  S1151  S1132  S1481  \n0     69.0   18.0    19.0   25.0   21.0    5.0  \n1     69.0   18.0    19.0   25.0   21.0    5.0  \n2     69.0   18.0    19.0   25.0   21.0    5.0  \n3     69.0   18.0    19.0   25.0   24.0    5.0  \n4     70.0   18.0    19.0   26.0   39.0    5.0  \n5     71.0   17.0    16.0   26.0   40.0    5.0  \n6     51.0   20.0    21.0   14.0   38.0    2.0  \n7     96.0   38.0    43.0   34.0  137.0    9.0  \n8    103.0   43.0    48.0   41.0  183.0   10.0  \n9    107.0   45.0    45.0   53.0  230.0   10.0  \n10   120.0   48.0    87.0   64.0  320.0   11.0  \n11   123.0   49.0    86.0   64.0  327.0   11.0  \n12   217.0   53.0    87.0   74.0  362.0   14.0  \n13   219.0   55.0    91.0   74.0  367.0   16.0  \n14   219.0   57.0    88.0   76.0  377.0   19.0  \n15   218.0   57.0    89.0   80.0  375.0   25.0  \n16   216.0   57.0    86.0   72.0  374.0   22.0  \n17   215.0   57.0    86.0   75.0  388.0   22.0  \n18   217.0   75.0    87.0   87.0  425.0   23.0  \n19   217.0   75.0    87.0   87.0  436.0   23.0  \n20   216.0   77.0    85.0   76.0  433.0   25.0  \n21   217.0   80.0    85.0   81.0  448.0   25.0  \n22   215.0   82.0    89.0   81.0  493.0   25.0  \n23   222.0   77.0    90.0   88.0  482.0   26.0  \n24   222.0   84.0    90.0   88.0  486.0   26.0  \n25   222.0   86.0    90.0   88.0  486.0   26.0  \n26   224.0   86.0    90.0   82.0  497.0   23.0  \n27   242.0   86.0    96.0   82.0  511.0   23.0  \n28   265.0   88.0    98.0   93.0  563.0   23.0  \n29   284.0   70.0   121.0   95.0  578.0   24.0  \n30   283.0   73.0   121.0   96.0  596.0   28.0  \n31   287.0   74.0   123.0   94.0  596.0   26.0  \n32   289.0   74.0   126.0   96.0  615.0   27.0  \n33   296.0   80.0   129.0  100.0  626.0   26.0  \n34   301.0   84.0   131.0  100.0  629.0   26.0  \n35   301.0   85.0   131.0  102.0  627.0   23.0  \n36   308.0   93.0   133.0  106.0  666.0   22.0  \n37   308.0   93.0   130.0  109.0  664.0   20.0  \n38   298.0   87.0   130.0  104.0  623.0   20.0  \n39   314.0   94.0   131.0  105.0  624.0   21.0  \n40   326.0   93.0   132.0  105.0  624.0   24.0  \n41   453.0  100.0   146.0  117.0  640.0   29.0  \n42   469.0  107.0   147.0  140.0  649.0   29.0  \n43   542.0  120.0   172.0  172.0  731.0   31.0  ",
      "text/html": "<div>\n<style scoped>\n    .dataframe tbody tr th:only-of-type {\n        vertical-align: middle;\n    }\n\n    .dataframe tbody tr th {\n        vertical-align: top;\n    }\n\n    .dataframe thead th {\n        text-align: right;\n    }\n</style>\n<table border=\"1\" class=\"dataframe\">\n  <thead>\n    <tr style=\"text-align: right;\">\n      <th></th>\n      <th>COMMIT_DATE</th>\n      <th>SQALE_INDEX</th>\n      <th>S1213</th>\n      <th>RedundantThrowsDeclarationCheck</th>\n      <th>S00117</th>\n      <th>S00122</th>\n      <th>S1488</th>\n      <th>S1905</th>\n      <th>UselessImportCheck</th>\n      <th>DuplicatedBlocks</th>\n      <th>S1226</th>\n      <th>S00112</th>\n      <th>S1155</th>\n      <th>S00108</th>\n      <th>S1151</th>\n      <th>S1132</th>\n      <th>S1481</th>\n    </tr>\n  </thead>\n  <tbody>\n    <tr>\n      <th>0</th>\n      <td>2005-08-16 18:33:34</td>\n      <td>25998.0</td>\n      <td>25.0</td>\n      <td>21.0</td>\n      <td>34.0</td>\n      <td>49.0</td>\n      <td>9.0</td>\n      <td>34.0</td>\n      <td>4.0</td>\n      <td>45.0</td>\n      <td>72.0</td>\n      <td>69.0</td>\n      <td>18.0</td>\n      <td>19.0</td>\n      <td>25.0</td>\n      <td>21.0</td>\n      <td>5.0</td>\n    </tr>\n    <tr>\n      <th>1</th>\n      <td>2005-09-15 18:33:34</td>\n      <td>26244.0</td>\n      <td>25.0</td>\n      <td>21.0</td>\n      <td>34.0</td>\n      <td>49.5</td>\n      <td>9.0</td>\n      <td>34.5</td>\n      <td>5.0</td>\n      <td>47.0</td>\n      <td>72.0</td>\n      <td>69.0</td>\n      <td>18.0</td>\n      <td>19.0</td>\n      <td>25.0</td>\n      <td>21.0</td>\n      <td>5.0</td>\n    </tr>\n    <tr>\n      <th>2</th>\n      <td>2005-10-30 07:47:41</td>\n      <td>26490.0</td>\n      <td>25.0</td>\n      <td>21.0</td>\n      <td>34.0</td>\n      <td>50.0</td>\n      <td>9.0</td>\n      <td>35.0</td>\n      <td>6.0</td>\n      <td>49.0</td>\n      <td>72.0</td>\n      <td>69.0</td>\n      <td>18.0</td>\n      <td>19.0</td>\n      <td>25.0</td>\n      <td>21.0</td>\n      <td>5.0</td>\n    </tr>\n    <tr>\n      <th>3</th>\n      <td>2005-12-03 16:32:50</td>\n      <td>25141.0</td>\n      <td>26.0</td>\n      <td>22.0</td>\n      <td>34.0</td>\n      <td>49.0</td>\n      <td>9.0</td>\n      <td>34.0</td>\n      <td>4.0</td>\n      <td>49.0</td>\n      <td>72.0</td>\n      <td>69.0</td>\n      <td>18.0</td>\n      <td>19.0</td>\n      <td>25.0</td>\n      <td>24.0</td>\n      <td>5.0</td>\n    </tr>\n    <tr>\n      <th>4</th>\n      <td>2006-01-13 13:55:13</td>\n      <td>28171.0</td>\n      <td>64.0</td>\n      <td>22.0</td>\n      <td>42.0</td>\n      <td>57.0</td>\n      <td>9.0</td>\n      <td>35.0</td>\n      <td>4.0</td>\n      <td>49.0</td>\n      <td>73.0</td>\n      <td>70.0</td>\n      <td>18.0</td>\n      <td>19.0</td>\n      <td>26.0</td>\n      <td>39.0</td>\n      <td>5.0</td>\n    </tr>\n    <tr>\n      <th>5</th>\n      <td>2006-02-13 15:46:16</td>\n      <td>26317.0</td>\n      <td>60.0</td>\n      <td>20.0</td>\n      <td>40.0</td>\n      <td>58.0</td>\n      <td>6.0</td>\n      <td>36.0</td>\n      <td>7.0</td>\n      <td>45.0</td>\n      <td>78.0</td>\n      <td>71.0</td>\n      <td>17.0</td>\n      <td>16.0</td>\n      <td>26.0</td>\n      <td>40.0</td>\n      <td>5.0</td>\n    </tr>\n    <tr>\n      <th>6</th>\n      <td>2006-03-16 15:57:37</td>\n      <td>22667.0</td>\n      <td>61.0</td>\n      <td>26.0</td>\n      <td>15.0</td>\n      <td>65.0</td>\n      <td>6.0</td>\n      <td>19.0</td>\n      <td>7.0</td>\n      <td>38.0</td>\n      <td>77.0</td>\n      <td>51.0</td>\n      <td>20.0</td>\n      <td>21.0</td>\n      <td>14.0</td>\n      <td>38.0</td>\n      <td>2.0</td>\n    </tr>\n    <tr>\n      <th>7</th>\n      <td>2006-04-19 14:43:32</td>\n      <td>47372.0</td>\n      <td>91.0</td>\n      <td>31.0</td>\n      <td>58.0</td>\n      <td>128.0</td>\n      <td>13.0</td>\n      <td>22.0</td>\n      <td>12.0</td>\n      <td>77.0</td>\n      <td>94.0</td>\n      <td>96.0</td>\n      <td>38.0</td>\n      <td>43.0</td>\n      <td>34.0</td>\n      <td>137.0</td>\n      <td>9.0</td>\n    </tr>\n    <tr>\n      <th>8</th>\n      <td>2006-05-24 07:42:30</td>\n      <td>56041.0</td>\n      <td>105.0</td>\n      <td>36.0</td>\n      <td>62.0</td>\n      <td>139.0</td>\n      <td>15.0</td>\n      <td>24.0</td>\n      <td>20.0</td>\n      <td>97.0</td>\n      <td>101.0</td>\n      <td>103.0</td>\n      <td>43.0</td>\n      <td>48.0</td>\n      <td>41.0</td>\n      <td>183.0</td>\n      <td>10.0</td>\n    </tr>\n    <tr>\n      <th>9</th>\n      <td>2006-06-24 15:03:17</td>\n      <td>64022.0</td>\n      <td>111.0</td>\n      <td>38.0</td>\n      <td>63.0</td>\n      <td>266.0</td>\n      <td>18.0</td>\n      <td>29.0</td>\n      <td>20.0</td>\n      <td>118.0</td>\n      <td>117.0</td>\n      <td>107.0</td>\n      <td>45.0</td>\n      <td>45.0</td>\n      <td>53.0</td>\n      <td>230.0</td>\n      <td>10.0</td>\n    </tr>\n    <tr>\n      <th>10</th>\n      <td>2006-07-24 15:26:49</td>\n      <td>79151.0</td>\n      <td>121.0</td>\n      <td>59.0</td>\n      <td>64.0</td>\n      <td>520.0</td>\n      <td>21.0</td>\n      <td>36.0</td>\n      <td>47.0</td>\n      <td>132.0</td>\n      <td>165.0</td>\n      <td>120.0</td>\n      <td>48.0</td>\n      <td>87.0</td>\n      <td>64.0</td>\n      <td>320.0</td>\n      <td>11.0</td>\n    </tr>\n    <tr>\n      <th>11</th>\n      <td>2006-08-23 20:03:22</td>\n      <td>79602.0</td>\n      <td>123.0</td>\n      <td>61.0</td>\n      <td>65.0</td>\n      <td>523.0</td>\n      <td>21.0</td>\n      <td>36.0</td>\n      <td>48.0</td>\n      <td>137.0</td>\n      <td>167.0</td>\n      <td>123.0</td>\n      <td>49.0</td>\n      <td>86.0</td>\n      <td>64.0</td>\n      <td>327.0</td>\n      <td>11.0</td>\n    </tr>\n    <tr>\n      <th>12</th>\n      <td>2006-09-25 16:10:48</td>\n      <td>96367.0</td>\n      <td>163.0</td>\n      <td>106.0</td>\n      <td>88.0</td>\n      <td>600.0</td>\n      <td>24.0</td>\n      <td>37.0</td>\n      <td>165.0</td>\n      <td>150.0</td>\n      <td>206.0</td>\n      <td>217.0</td>\n      <td>53.0</td>\n      <td>87.0</td>\n      <td>74.0</td>\n      <td>362.0</td>\n      <td>14.0</td>\n    </tr>\n    <tr>\n      <th>13</th>\n      <td>2006-10-26 14:40:07</td>\n      <td>82848.0</td>\n      <td>700.0</td>\n      <td>226.0</td>\n      <td>93.0</td>\n      <td>598.0</td>\n      <td>24.0</td>\n      <td>37.0</td>\n      <td>128.0</td>\n      <td>200.0</td>\n      <td>206.0</td>\n      <td>219.0</td>\n      <td>55.0</td>\n      <td>91.0</td>\n      <td>74.0</td>\n      <td>367.0</td>\n      <td>16.0</td>\n    </tr>\n    <tr>\n      <th>14</th>\n      <td>2006-12-06 23:21:41</td>\n      <td>83558.0</td>\n      <td>700.0</td>\n      <td>227.0</td>\n      <td>111.0</td>\n      <td>653.0</td>\n      <td>23.0</td>\n      <td>37.0</td>\n      <td>119.0</td>\n      <td>205.0</td>\n      <td>206.0</td>\n      <td>219.0</td>\n      <td>57.0</td>\n      <td>88.0</td>\n      <td>76.0</td>\n      <td>377.0</td>\n      <td>19.0</td>\n    </tr>\n    <tr>\n      <th>15</th>\n      <td>2007-01-18 01:36:45</td>\n      <td>83761.0</td>\n      <td>695.0</td>\n      <td>226.0</td>\n      <td>109.0</td>\n      <td>645.0</td>\n      <td>23.0</td>\n      <td>37.0</td>\n      <td>115.0</td>\n      <td>203.0</td>\n      <td>207.0</td>\n      <td>218.0</td>\n      <td>57.0</td>\n      <td>89.0</td>\n      <td>80.0</td>\n      <td>375.0</td>\n      <td>25.0</td>\n    </tr>\n    <tr>\n      <th>16</th>\n      <td>2007-02-21 23:53:59</td>\n      <td>84040.0</td>\n      <td>692.0</td>\n      <td>225.0</td>\n      <td>109.0</td>\n      <td>653.0</td>\n      <td>23.0</td>\n      <td>34.0</td>\n      <td>119.0</td>\n      <td>201.0</td>\n      <td>173.0</td>\n      <td>216.0</td>\n      <td>57.0</td>\n      <td>86.0</td>\n      <td>72.0</td>\n      <td>374.0</td>\n      <td>22.0</td>\n    </tr>\n    <tr>\n      <th>17</th>\n      <td>2007-03-28 14:34:01</td>\n      <td>84371.0</td>\n      <td>692.0</td>\n      <td>225.0</td>\n      <td>110.0</td>\n      <td>623.0</td>\n      <td>23.0</td>\n      <td>34.0</td>\n      <td>153.0</td>\n      <td>203.0</td>\n      <td>176.0</td>\n      <td>215.0</td>\n      <td>57.0</td>\n      <td>86.0</td>\n      <td>75.0</td>\n      <td>388.0</td>\n      <td>22.0</td>\n    </tr>\n    <tr>\n      <th>18</th>\n      <td>2007-05-03 13:51:48</td>\n      <td>89351.0</td>\n      <td>703.0</td>\n      <td>224.0</td>\n      <td>112.0</td>\n      <td>503.0</td>\n      <td>23.0</td>\n      <td>35.0</td>\n      <td>162.0</td>\n      <td>218.0</td>\n      <td>186.0</td>\n      <td>217.0</td>\n      <td>75.0</td>\n      <td>87.0</td>\n      <td>87.0</td>\n      <td>425.0</td>\n      <td>23.0</td>\n    </tr>\n    <tr>\n      <th>19</th>\n      <td>2007-06-05 15:19:52</td>\n      <td>89872.0</td>\n      <td>704.0</td>\n      <td>223.0</td>\n      <td>112.0</td>\n      <td>520.0</td>\n      <td>24.0</td>\n      <td>35.0</td>\n      <td>156.0</td>\n      <td>218.0</td>\n      <td>188.0</td>\n      <td>217.0</td>\n      <td>75.0</td>\n      <td>87.0</td>\n      <td>87.0</td>\n      <td>436.0</td>\n      <td>23.0</td>\n    </tr>\n    <tr>\n      <th>20</th>\n      <td>2007-07-05 21:24:02</td>\n      <td>89400.0</td>\n      <td>704.0</td>\n      <td>223.0</td>\n      <td>104.0</td>\n      <td>492.0</td>\n      <td>23.0</td>\n      <td>35.0</td>\n      <td>153.0</td>\n      <td>191.0</td>\n      <td>180.0</td>\n      <td>216.0</td>\n      <td>77.0</td>\n      <td>85.0</td>\n      <td>76.0</td>\n      <td>433.0</td>\n      <td>25.0</td>\n    </tr>\n    <tr>\n      <th>21</th>\n      <td>2007-08-06 12:01:51</td>\n      <td>93054.0</td>\n      <td>694.0</td>\n      <td>227.0</td>\n      <td>104.0</td>\n      <td>494.0</td>\n      <td>24.0</td>\n      <td>34.0</td>\n      <td>155.0</td>\n      <td>206.0</td>\n      <td>186.0</td>\n      <td>217.0</td>\n      <td>80.0</td>\n      <td>85.0</td>\n      <td>81.0</td>\n      <td>448.0</td>\n      <td>25.0</td>\n    </tr>\n    <tr>\n      <th>22</th>\n      <td>2007-09-05 15:17:17</td>\n      <td>95090.0</td>\n      <td>694.0</td>\n      <td>230.0</td>\n      <td>106.0</td>\n      <td>502.0</td>\n      <td>27.0</td>\n      <td>33.0</td>\n      <td>116.0</td>\n      <td>206.0</td>\n      <td>197.0</td>\n      <td>215.0</td>\n      <td>82.0</td>\n      <td>89.0</td>\n      <td>81.0</td>\n      <td>493.0</td>\n      <td>25.0</td>\n    </tr>\n    <tr>\n      <th>23</th>\n      <td>2007-10-07 10:25:46</td>\n      <td>99519.0</td>\n      <td>696.0</td>\n      <td>263.0</td>\n      <td>107.0</td>\n      <td>596.0</td>\n      <td>29.0</td>\n      <td>41.0</td>\n      <td>113.0</td>\n      <td>207.0</td>\n      <td>207.0</td>\n      <td>222.0</td>\n      <td>77.0</td>\n      <td>90.0</td>\n      <td>88.0</td>\n      <td>482.0</td>\n      <td>26.0</td>\n    </tr>\n    <tr>\n      <th>24</th>\n      <td>2007-11-06 21:09:10</td>\n      <td>100268.0</td>\n      <td>696.0</td>\n      <td>263.0</td>\n      <td>107.0</td>\n      <td>591.0</td>\n      <td>35.0</td>\n      <td>45.0</td>\n      <td>113.0</td>\n      <td>208.0</td>\n      <td>208.0</td>\n      <td>222.0</td>\n      <td>84.0</td>\n      <td>90.0</td>\n      <td>88.0</td>\n      <td>486.0</td>\n      <td>26.0</td>\n    </tr>\n    <tr>\n      <th>25</th>\n      <td>2007-12-07 08:22:20</td>\n      <td>100376.0</td>\n      <td>696.0</td>\n      <td>263.0</td>\n      <td>107.0</td>\n      <td>588.0</td>\n      <td>35.0</td>\n      <td>45.0</td>\n      <td>114.0</td>\n      <td>217.0</td>\n      <td>204.0</td>\n      <td>222.0</td>\n      <td>86.0</td>\n      <td>90.0</td>\n      <td>88.0</td>\n      <td>486.0</td>\n      <td>26.0</td>\n    </tr>\n    <tr>\n      <th>26</th>\n      <td>2008-01-07 14:34:03</td>\n      <td>100718.0</td>\n      <td>696.0</td>\n      <td>264.0</td>\n      <td>104.0</td>\n      <td>585.0</td>\n      <td>37.0</td>\n      <td>45.0</td>\n      <td>114.0</td>\n      <td>216.0</td>\n      <td>202.0</td>\n      <td>224.0</td>\n      <td>86.0</td>\n      <td>90.0</td>\n      <td>82.0</td>\n      <td>497.0</td>\n      <td>23.0</td>\n    </tr>\n    <tr>\n      <th>27</th>\n      <td>2008-02-15 22:19:59</td>\n      <td>105275.0</td>\n      <td>711.0</td>\n      <td>293.0</td>\n      <td>112.0</td>\n      <td>573.0</td>\n      <td>36.0</td>\n      <td>37.0</td>\n      <td>103.0</td>\n      <td>266.0</td>\n      <td>201.0</td>\n      <td>242.0</td>\n      <td>86.0</td>\n      <td>96.0</td>\n      <td>82.0</td>\n      <td>511.0</td>\n      <td>23.0</td>\n    </tr>\n    <tr>\n      <th>28</th>\n      <td>2008-03-18 11:24:45</td>\n      <td>113126.0</td>\n      <td>716.0</td>\n      <td>302.0</td>\n      <td>114.0</td>\n      <td>569.0</td>\n      <td>37.0</td>\n      <td>41.0</td>\n      <td>105.0</td>\n      <td>295.0</td>\n      <td>244.0</td>\n      <td>265.0</td>\n      <td>88.0</td>\n      <td>98.0</td>\n      <td>93.0</td>\n      <td>563.0</td>\n      <td>23.0</td>\n    </tr>\n    <tr>\n      <th>29</th>\n      <td>2008-04-21 20:55:17</td>\n      <td>163907.0</td>\n      <td>768.0</td>\n      <td>305.0</td>\n      <td>560.0</td>\n      <td>791.0</td>\n      <td>40.0</td>\n      <td>43.0</td>\n      <td>115.0</td>\n      <td>422.0</td>\n      <td>252.0</td>\n      <td>284.0</td>\n      <td>70.0</td>\n      <td>121.0</td>\n      <td>95.0</td>\n      <td>578.0</td>\n      <td>24.0</td>\n    </tr>\n    <tr>\n      <th>30</th>\n      <td>2008-05-29 07:43:23</td>\n      <td>181760.0</td>\n      <td>785.0</td>\n      <td>305.0</td>\n      <td>563.0</td>\n      <td>812.0</td>\n      <td>39.0</td>\n      <td>42.0</td>\n      <td>120.0</td>\n      <td>502.0</td>\n      <td>256.0</td>\n      <td>283.0</td>\n      <td>73.0</td>\n      <td>121.0</td>\n      <td>96.0</td>\n      <td>596.0</td>\n      <td>28.0</td>\n    </tr>\n    <tr>\n      <th>31</th>\n      <td>2008-07-02 09:46:11</td>\n      <td>183540.0</td>\n      <td>790.0</td>\n      <td>304.0</td>\n      <td>577.0</td>\n      <td>813.0</td>\n      <td>39.0</td>\n      <td>42.0</td>\n      <td>116.0</td>\n      <td>498.0</td>\n      <td>262.0</td>\n      <td>287.0</td>\n      <td>74.0</td>\n      <td>123.0</td>\n      <td>94.0</td>\n      <td>596.0</td>\n      <td>26.0</td>\n    </tr>\n    <tr>\n      <th>32</th>\n      <td>2008-08-01 12:52:36</td>\n      <td>192623.0</td>\n      <td>776.0</td>\n      <td>325.0</td>\n      <td>642.0</td>\n      <td>802.0</td>\n      <td>39.0</td>\n      <td>42.0</td>\n      <td>113.0</td>\n      <td>511.0</td>\n      <td>262.0</td>\n      <td>289.0</td>\n      <td>74.0</td>\n      <td>126.0</td>\n      <td>96.0</td>\n      <td>615.0</td>\n      <td>27.0</td>\n    </tr>\n    <tr>\n      <th>33</th>\n      <td>2008-09-05 21:38:05</td>\n      <td>198636.0</td>\n      <td>790.0</td>\n      <td>329.0</td>\n      <td>658.0</td>\n      <td>799.0</td>\n      <td>40.0</td>\n      <td>42.0</td>\n      <td>113.0</td>\n      <td>483.0</td>\n      <td>273.0</td>\n      <td>296.0</td>\n      <td>80.0</td>\n      <td>129.0</td>\n      <td>100.0</td>\n      <td>626.0</td>\n      <td>26.0</td>\n    </tr>\n    <tr>\n      <th>34</th>\n      <td>2008-10-06 07:55:39</td>\n      <td>206333.0</td>\n      <td>797.0</td>\n      <td>329.0</td>\n      <td>658.0</td>\n      <td>809.0</td>\n      <td>41.0</td>\n      <td>42.0</td>\n      <td>116.0</td>\n      <td>500.0</td>\n      <td>275.0</td>\n      <td>301.0</td>\n      <td>84.0</td>\n      <td>131.0</td>\n      <td>100.0</td>\n      <td>629.0</td>\n      <td>26.0</td>\n    </tr>\n    <tr>\n      <th>35</th>\n      <td>2008-11-05 13:10:54</td>\n      <td>215808.0</td>\n      <td>796.0</td>\n      <td>333.0</td>\n      <td>712.0</td>\n      <td>831.0</td>\n      <td>41.0</td>\n      <td>42.0</td>\n      <td>119.0</td>\n      <td>508.0</td>\n      <td>275.0</td>\n      <td>301.0</td>\n      <td>85.0</td>\n      <td>131.0</td>\n      <td>102.0</td>\n      <td>627.0</td>\n      <td>23.0</td>\n    </tr>\n    <tr>\n      <th>36</th>\n      <td>2008-12-10 12:29:41</td>\n      <td>224951.0</td>\n      <td>818.0</td>\n      <td>338.0</td>\n      <td>745.0</td>\n      <td>837.0</td>\n      <td>43.0</td>\n      <td>62.0</td>\n      <td>120.0</td>\n      <td>506.0</td>\n      <td>303.0</td>\n      <td>308.0</td>\n      <td>93.0</td>\n      <td>133.0</td>\n      <td>106.0</td>\n      <td>666.0</td>\n      <td>22.0</td>\n    </tr>\n    <tr>\n      <th>37</th>\n      <td>2009-01-12 09:54:01</td>\n      <td>227954.0</td>\n      <td>819.0</td>\n      <td>335.0</td>\n      <td>813.0</td>\n      <td>826.0</td>\n      <td>44.0</td>\n      <td>68.0</td>\n      <td>126.0</td>\n      <td>517.0</td>\n      <td>303.0</td>\n      <td>308.0</td>\n      <td>93.0</td>\n      <td>130.0</td>\n      <td>109.0</td>\n      <td>664.0</td>\n      <td>20.0</td>\n    </tr>\n    <tr>\n      <th>38</th>\n      <td>2009-02-11 14:58:19</td>\n      <td>225041.0</td>\n      <td>799.0</td>\n      <td>332.0</td>\n      <td>783.0</td>\n      <td>826.0</td>\n      <td>42.0</td>\n      <td>52.0</td>\n      <td>121.0</td>\n      <td>519.0</td>\n      <td>277.0</td>\n      <td>298.0</td>\n      <td>87.0</td>\n      <td>130.0</td>\n      <td>104.0</td>\n      <td>623.0</td>\n      <td>20.0</td>\n    </tr>\n    <tr>\n      <th>39</th>\n      <td>2009-03-16 23:34:01</td>\n      <td>227013.0</td>\n      <td>802.0</td>\n      <td>331.0</td>\n      <td>783.0</td>\n      <td>826.0</td>\n      <td>42.0</td>\n      <td>52.0</td>\n      <td>125.0</td>\n      <td>523.0</td>\n      <td>283.0</td>\n      <td>314.0</td>\n      <td>94.0</td>\n      <td>131.0</td>\n      <td>105.0</td>\n      <td>624.0</td>\n      <td>21.0</td>\n    </tr>\n    <tr>\n      <th>40</th>\n      <td>2009-04-16 06:33:10</td>\n      <td>230897.0</td>\n      <td>803.0</td>\n      <td>351.0</td>\n      <td>783.0</td>\n      <td>836.0</td>\n      <td>45.0</td>\n      <td>54.0</td>\n      <td>125.0</td>\n      <td>543.0</td>\n      <td>291.0</td>\n      <td>326.0</td>\n      <td>93.0</td>\n      <td>132.0</td>\n      <td>105.0</td>\n      <td>624.0</td>\n      <td>24.0</td>\n    </tr>\n    <tr>\n      <th>41</th>\n      <td>2009-05-16 09:01:22</td>\n      <td>246986.0</td>\n      <td>830.0</td>\n      <td>363.0</td>\n      <td>795.0</td>\n      <td>874.0</td>\n      <td>52.0</td>\n      <td>61.0</td>\n      <td>157.0</td>\n      <td>578.0</td>\n      <td>320.0</td>\n      <td>453.0</td>\n      <td>100.0</td>\n      <td>146.0</td>\n      <td>117.0</td>\n      <td>640.0</td>\n      <td>29.0</td>\n    </tr>\n    <tr>\n      <th>42</th>\n      <td>2009-06-15 09:47:06</td>\n      <td>253394.0</td>\n      <td>845.0</td>\n      <td>370.0</td>\n      <td>797.0</td>\n      <td>874.0</td>\n      <td>55.0</td>\n      <td>64.0</td>\n      <td>157.0</td>\n      <td>576.0</td>\n      <td>346.0</td>\n      <td>469.0</td>\n      <td>107.0</td>\n      <td>147.0</td>\n      <td>140.0</td>\n      <td>649.0</td>\n      <td>29.0</td>\n    </tr>\n    <tr>\n      <th>43</th>\n      <td>2009-07-15 15:43:44</td>\n      <td>283530.0</td>\n      <td>891.0</td>\n      <td>515.0</td>\n      <td>826.0</td>\n      <td>901.0</td>\n      <td>79.0</td>\n      <td>84.0</td>\n      <td>180.0</td>\n      <td>673.0</td>\n      <td>442.0</td>\n      <td>542.0</td>\n      <td>120.0</td>\n      <td>172.0</td>\n      <td>172.0</td>\n      <td>731.0</td>\n      <td>31.0</td>\n    </tr>\n  </tbody>\n</table>\n</div>"
     },
     "execution_count": 29,
     "metadata": {},
     "output_type": "execute_result"
    }
   ],
   "source": [
    "df"
   ],
   "metadata": {
    "collapsed": false,
    "ExecuteTime": {
     "end_time": "2024-02-15T13:00:12.987713Z",
     "start_time": "2024-02-15T13:00:12.983878Z"
    }
   },
   "id": "fedb25771d9c307c",
   "execution_count": 29
  },
  {
   "cell_type": "code",
   "outputs": [
    {
     "name": "stdout",
     "output_type": "stream",
     "text": [
      "Performing stepwise search to minimize aic\n",
      " ARIMA(0,1,0)(0,0,0)[12] intercept   : AIC=816.128, Time=0.08 sec\n"
     ]
    },
    {
     "name": "stderr",
     "output_type": "stream",
     "text": [
      "/Users/mrobredo23/OULU/PROMISE-TDpred2024/myenv/lib/python3.9/site-packages/statsmodels/base/model.py:607: ConvergenceWarning: Maximum Likelihood optimization failed to converge. Check mle_retvals\n",
      "  warnings.warn(\"Maximum Likelihood optimization failed to \"\n",
      "/Users/mrobredo23/OULU/PROMISE-TDpred2024/myenv/lib/python3.9/site-packages/statsmodels/base/model.py:607: ConvergenceWarning: Maximum Likelihood optimization failed to converge. Check mle_retvals\n",
      "  warnings.warn(\"Maximum Likelihood optimization failed to \"\n",
      "/Users/mrobredo23/OULU/PROMISE-TDpred2024/myenv/lib/python3.9/site-packages/statsmodels/tsa/statespace/sarimax.py:1009: UserWarning: Non-invertible starting seasonal moving average Using zeros as starting parameters.\n",
      "  warn('Non-invertible starting seasonal moving average'\n"
     ]
    },
    {
     "name": "stdout",
     "output_type": "stream",
     "text": [
      " ARIMA(1,1,0)(1,0,0)[12] intercept   : AIC=819.453, Time=0.48 sec\n"
     ]
    },
    {
     "name": "stderr",
     "output_type": "stream",
     "text": [
      "/Users/mrobredo23/OULU/PROMISE-TDpred2024/myenv/lib/python3.9/site-packages/statsmodels/base/model.py:607: ConvergenceWarning: Maximum Likelihood optimization failed to converge. Check mle_retvals\n",
      "  warnings.warn(\"Maximum Likelihood optimization failed to \"\n"
     ]
    },
    {
     "name": "stdout",
     "output_type": "stream",
     "text": [
      " ARIMA(0,1,1)(0,0,1)[12] intercept   : AIC=818.616, Time=0.45 sec\n",
      " ARIMA(0,1,0)(0,0,0)[12]             : AIC=815.587, Time=0.06 sec\n"
     ]
    },
    {
     "name": "stderr",
     "output_type": "stream",
     "text": [
      "/Users/mrobredo23/OULU/PROMISE-TDpred2024/myenv/lib/python3.9/site-packages/statsmodels/base/model.py:607: ConvergenceWarning: Maximum Likelihood optimization failed to converge. Check mle_retvals\n",
      "  warnings.warn(\"Maximum Likelihood optimization failed to \"\n",
      "/Users/mrobredo23/OULU/PROMISE-TDpred2024/myenv/lib/python3.9/site-packages/statsmodels/tsa/statespace/sarimax.py:1009: UserWarning: Non-invertible starting seasonal moving average Using zeros as starting parameters.\n",
      "  warn('Non-invertible starting seasonal moving average'\n"
     ]
    },
    {
     "name": "stdout",
     "output_type": "stream",
     "text": [
      " ARIMA(0,1,0)(1,0,0)[12] intercept   : AIC=817.170, Time=0.35 sec\n"
     ]
    },
    {
     "name": "stderr",
     "output_type": "stream",
     "text": [
      "/Users/mrobredo23/OULU/PROMISE-TDpred2024/myenv/lib/python3.9/site-packages/statsmodels/base/model.py:607: ConvergenceWarning: Maximum Likelihood optimization failed to converge. Check mle_retvals\n",
      "  warnings.warn(\"Maximum Likelihood optimization failed to \"\n",
      "/Users/mrobredo23/OULU/PROMISE-TDpred2024/myenv/lib/python3.9/site-packages/statsmodels/tsa/statespace/sarimax.py:1009: UserWarning: Non-invertible starting seasonal moving average Using zeros as starting parameters.\n",
      "  warn('Non-invertible starting seasonal moving average'\n"
     ]
    },
    {
     "name": "stdout",
     "output_type": "stream",
     "text": [
      " ARIMA(0,1,0)(0,0,1)[12] intercept   : AIC=815.910, Time=0.30 sec\n"
     ]
    },
    {
     "name": "stderr",
     "output_type": "stream",
     "text": [
      "/Users/mrobredo23/OULU/PROMISE-TDpred2024/myenv/lib/python3.9/site-packages/statsmodels/base/model.py:607: ConvergenceWarning: Maximum Likelihood optimization failed to converge. Check mle_retvals\n",
      "  warnings.warn(\"Maximum Likelihood optimization failed to \"\n",
      "/Users/mrobredo23/OULU/PROMISE-TDpred2024/myenv/lib/python3.9/site-packages/statsmodels/base/model.py:607: ConvergenceWarning: Maximum Likelihood optimization failed to converge. Check mle_retvals\n",
      "  warnings.warn(\"Maximum Likelihood optimization failed to \"\n"
     ]
    },
    {
     "name": "stdout",
     "output_type": "stream",
     "text": [
      " ARIMA(0,1,0)(1,0,1)[12] intercept   : AIC=816.799, Time=0.29 sec\n",
      " ARIMA(1,1,0)(0,0,0)[12] intercept   : AIC=818.365, Time=0.12 sec\n",
      " ARIMA(0,1,1)(0,0,0)[12] intercept   : AIC=818.331, Time=0.15 sec\n",
      " ARIMA(1,1,1)(0,0,0)[12] intercept   : AIC=819.798, Time=0.11 sec\n",
      "\n",
      "Best model:  ARIMA(0,1,0)(0,0,0)[12]          \n",
      "Total fit time: 2.402 seconds\n"
     ]
    },
    {
     "name": "stderr",
     "output_type": "stream",
     "text": [
      "/Users/mrobredo23/OULU/PROMISE-TDpred2024/myenv/lib/python3.9/site-packages/statsmodels/base/model.py:607: ConvergenceWarning: Maximum Likelihood optimization failed to converge. Check mle_retvals\n",
      "  warnings.warn(\"Maximum Likelihood optimization failed to \"\n",
      "/Users/mrobredo23/OULU/PROMISE-TDpred2024/myenv/lib/python3.9/site-packages/statsmodels/tsa/statespace/sarimax.py:966: UserWarning: Non-stationary starting autoregressive parameters found. Using zeros as starting parameters.\n",
      "  warn('Non-stationary starting autoregressive parameters'\n",
      "/Users/mrobredo23/OULU/PROMISE-TDpred2024/myenv/lib/python3.9/site-packages/statsmodels/tsa/statespace/sarimax.py:978: UserWarning: Non-invertible starting MA parameters found. Using zeros as starting parameters.\n",
      "  warn('Non-invertible starting MA parameters found.'\n",
      "/Users/mrobredo23/OULU/PROMISE-TDpred2024/myenv/lib/python3.9/site-packages/statsmodels/base/model.py:607: ConvergenceWarning: Maximum Likelihood optimization failed to converge. Check mle_retvals\n",
      "  warnings.warn(\"Maximum Likelihood optimization failed to \"\n"
     ]
    }
   ],
   "source": [
    "arima_model = pmd.arima.auto_arima(y=training_sqale, X=training_xregressors, start_p=0, start_q=0, max_p=5, max_q=5, d=None, D=None, max_d=3, max_D=3, start_P=0, start_Q=0, max_P=5, max_Q=5, test=\"adf\", m=12, seasonal=True, stepwise=True, enforce_stationarity=True, error_action='trace', trace=True, suppress_warnings=False, stationary=False)"
   ],
   "metadata": {
    "collapsed": false,
    "ExecuteTime": {
     "end_time": "2024-02-15T14:46:56.360074Z",
     "start_time": "2024-02-15T14:46:53.947557Z"
    }
   },
   "id": "2bef4502e9b44ffa",
   "execution_count": 106
  },
  {
   "cell_type": "code",
   "outputs": [
    {
     "ename": "AttributeError",
     "evalue": "'ARIMA' object has no attribute 'mle_retvals'",
     "output_type": "error",
     "traceback": [
      "\u001B[0;31m---------------------------------------------------------------------------\u001B[0m",
      "\u001B[0;31mAttributeError\u001B[0m                            Traceback (most recent call last)",
      "Cell \u001B[0;32mIn[109], line 1\u001B[0m\n\u001B[0;32m----> 1\u001B[0m \u001B[43marima_model\u001B[49m\u001B[38;5;241;43m.\u001B[39;49m\u001B[43mmle_retvals\u001B[49m()\n",
      "\u001B[0;31mAttributeError\u001B[0m: 'ARIMA' object has no attribute 'mle_retvals'"
     ]
    }
   ],
   "source": [
    "arima_model"
   ],
   "metadata": {
    "collapsed": false,
    "ExecuteTime": {
     "end_time": "2024-02-15T15:03:55.356422Z",
     "start_time": "2024-02-15T15:03:55.348657Z"
    }
   },
   "id": "1d2b7bb0cdfb0981",
   "execution_count": 109
  },
  {
   "cell_type": "code",
   "outputs": [
    {
     "name": "stdout",
     "output_type": "stream",
     "text": [
      "                               SARIMAX Results                                \n",
      "==============================================================================\n",
      "Dep. Variable:                      y   No. Observations:                   44\n",
      "Model:               SARIMAX(0, 1, 0)   Log Likelihood                -391.794\n",
      "Date:                Thu, 15 Feb 2024   AIC                            815.587\n",
      "Time:                        16:57:04   BIC                            843.766\n",
      "Sample:                             0   HQIC                           825.979\n",
      "                                 - 44                                         \n",
      "Covariance Type:                  opg                                         \n",
      "==============================================================================\n",
      "                 coef    std err          z      P>|z|      [0.025      0.975]\n",
      "------------------------------------------------------------------------------\n",
      "x1           -41.2569     20.388     -2.024      0.043     -81.216      -1.298\n",
      "x2            21.0786     62.000      0.340      0.734    -100.439     142.596\n",
      "x3            81.8755     22.120      3.701      0.000      38.521     125.230\n",
      "x4            33.8709     13.952      2.428      0.015       6.526      61.216\n",
      "x5            35.6071    335.567      0.106      0.915    -622.093     693.307\n",
      "x6            -0.7974    161.571     -0.005      0.996    -317.471     315.876\n",
      "x7            30.9843     93.091      0.333      0.739    -151.471     213.440\n",
      "x8           119.4114     17.845      6.692      0.000      84.437     154.386\n",
      "x9            10.6059     97.444      0.109      0.913    -180.382     201.594\n",
      "x10           39.3496     56.740      0.694      0.488     -71.858     150.558\n",
      "x11          446.8161    158.344      2.822      0.005     136.467     757.165\n",
      "x12           -0.2760    154.473     -0.002      0.999    -303.038     302.486\n",
      "x13           11.5312    108.045      0.107      0.915    -200.232     223.295\n",
      "x14           27.0156     42.703      0.633      0.527     -56.680     110.711\n",
      "x15          172.4340    321.160      0.537      0.591    -457.029     801.897\n",
      "sigma2      4.814e+06   1.47e+06      3.284      0.001    1.94e+06    7.69e+06\n",
      "===================================================================================\n",
      "Ljung-Box (L1) (Q):                   0.03   Jarque-Bera (JB):                 0.84\n",
      "Prob(Q):                              0.86   Prob(JB):                         0.66\n",
      "Heteroskedasticity (H):               2.70   Skew:                             0.34\n",
      "Prob(H) (two-sided):                  0.07   Kurtosis:                         2.98\n",
      "===================================================================================\n",
      "\n",
      "Warnings:\n",
      "[1] Covariance matrix calculated using the outer product of gradients (complex-step).\n"
     ]
    }
   ],
   "source": [
    "print(arima_model.summary())"
   ],
   "metadata": {
    "collapsed": false,
    "ExecuteTime": {
     "end_time": "2024-02-15T14:57:04.190519Z",
     "start_time": "2024-02-15T14:57:04.186850Z"
    }
   },
   "id": "bebdef6175706a",
   "execution_count": 108
  },
  {
   "cell_type": "code",
   "outputs": [
    {
     "data": {
      "text/plain": "(-1.0707250592431856,\n 0.72660413468686,\n 0,\n 43,\n {'1%': -3.5925042342183704,\n  '5%': -2.931549768951162,\n  '10%': -2.60406594375338},\n -70.89295830917395)"
     },
     "execution_count": 65,
     "metadata": {},
     "output_type": "execute_result"
    }
   ],
   "source": [
    "adfuller(np.log(training_sqale))"
   ],
   "metadata": {
    "collapsed": false,
    "ExecuteTime": {
     "end_time": "2024-02-15T13:43:11.967715Z",
     "start_time": "2024-02-15T13:43:11.962385Z"
    }
   },
   "id": "db708c1db00f74b",
   "execution_count": 65
  },
  {
   "cell_type": "code",
   "outputs": [
    {
     "name": "stdout",
     "output_type": "stream",
     "text": [
      "Performing stepwise search to minimize aic\n",
      " ARIMA(2,0,2)(0,0,0)[0] intercept   : AIC=inf, Time=0.12 sec\n",
      " ARIMA(0,0,0)(0,0,0)[0] intercept   : AIC=832.028, Time=0.02 sec\n",
      " ARIMA(1,0,0)(0,0,0)[0] intercept   : AIC=834.042, Time=0.03 sec\n",
      " ARIMA(0,0,1)(0,0,0)[0] intercept   : AIC=834.164, Time=0.08 sec\n",
      " ARIMA(0,0,0)(0,0,0)[0]             : AIC=830.041, Time=0.04 sec\n",
      " ARIMA(1,0,1)(0,0,0)[0] intercept   : AIC=inf, Time=0.11 sec\n",
      "\n",
      "Best model:  ARIMA(0,0,0)(0,0,0)[0]          \n",
      "Total fit time: 0.406 seconds\n"
     ]
    }
   ],
   "source": [
    "arima_model = pmd.auto_arima(y=training_sqale, X=training_xregressors, suppress_warnings=True, trace=True)"
   ],
   "metadata": {
    "collapsed": false,
    "ExecuteTime": {
     "end_time": "2024-02-15T13:25:26.431708Z",
     "start_time": "2024-02-15T13:25:26.023388Z"
    }
   },
   "id": "d576980fc281b822",
   "execution_count": 60
  },
  {
   "cell_type": "markdown",
   "source": [
    "# Trying manual "
   ],
   "metadata": {
    "collapsed": false
   },
   "id": "29c899ce34fdb613"
  }
 ],
 "metadata": {
  "kernelspec": {
   "display_name": "Python 3",
   "language": "python",
   "name": "python3"
  },
  "language_info": {
   "codemirror_mode": {
    "name": "ipython",
    "version": 2
   },
   "file_extension": ".py",
   "mimetype": "text/x-python",
   "name": "python",
   "nbconvert_exporter": "python",
   "pygments_lexer": "ipython2",
   "version": "2.7.6"
  }
 },
 "nbformat": 4,
 "nbformat_minor": 5
}
